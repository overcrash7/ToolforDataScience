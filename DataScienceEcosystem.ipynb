{
 "cells": [
  {
   "cell_type": "markdown",
   "id": "ca62e213-908c-4d50-aeb8-9ceb328741b6",
   "metadata": {},
   "source": [
    "# Data Science Tools and Ecosystem\n",
    "In this notebook, Data Science Tools and Ecosystem are summarized."
   ]
  },
  {
   "cell_type": "markdown",
   "id": "8a3adc79-4abb-44b3-b48c-01f431747a36",
   "metadata": {},
   "source": [
    "Some of the popular languages that Data Scientists use are:\n",
    "1. Python\n",
    "2. R\n",
    "3. Java\n",
    "4. C++"
   ]
  },
  {
   "cell_type": "markdown",
   "id": "d6185c6a-5fd1-4525-a8be-3b2b26618164",
   "metadata": {},
   "source": [
    "Some of the commonly used libraries used by Data Scientists include:\n",
    "1. Plot\n",
    "2. ggPlot\n",
    "3. Keras"
   ]
  },
  {
   "cell_type": "markdown",
   "id": "5d2c46d8-8d24-48e4-9c1e-7736da7c415d",
   "metadata": {},
   "source": [
    "|Data Science Tools|\n",
    "| -------------| \n",
    "| Jupyter Notebook | \n",
    "| Python |\n",
    "| VScode | "
   ]
  },
  {
   "cell_type": "markdown",
   "id": "f0ac5f39-f411-4011-b49d-ca0a62ec2c59",
   "metadata": {
    "tags": []
   },
   "source": [
    "### Below are a few examples of evaluating arithmetic expressions in Python\n"
   ]
  },
  {
   "cell_type": "code",
   "execution_count": 2,
   "id": "a65079f5-6796-4d58-b00e-d56da497e35e",
   "metadata": {
    "tags": []
   },
   "outputs": [
    {
     "data": {
      "text/plain": [
       "17"
      ]
     },
     "execution_count": 2,
     "metadata": {},
     "output_type": "execute_result"
    }
   ],
   "source": [
    "#This a simple arithmetic expression to mutiply then add integers\n",
    "(3*4)+5"
   ]
  },
  {
   "cell_type": "code",
   "execution_count": 3,
   "id": "55036e46-d2dd-4807-bf8c-1c71167e3367",
   "metadata": {
    "tags": []
   },
   "outputs": [
    {
     "data": {
      "text/plain": [
       "3.3333333333333335"
      ]
     },
     "execution_count": 3,
     "metadata": {},
     "output_type": "execute_result"
    }
   ],
   "source": [
    " #This will convert 200 minutes to hours by diving by 60\n",
    "200/60"
   ]
  },
  {
   "cell_type": "markdown",
   "id": "2cb3dc2e-fbd4-4abe-9776-b491661e4142",
   "metadata": {
    "tags": []
   },
   "source": [
    "__objective__\n",
    "* List popular languages for Data Science\n",
    "* List of popular libraries for R\n",
    "* List of science for different areas\n",
    "* Learning R, tools"
   ]
  },
  {
   "cell_type": "markdown",
   "id": "44e107aa-9c25-47af-ae86-d7d2c084d349",
   "metadata": {},
   "source": [
    "## Rabin Singh"
   ]
  },
  {
   "cell_type": "markdown",
   "id": "a422ed3a-c3e8-414d-8cd4-2649e8c6d98a",
   "metadata": {},
   "source": []
  },
  {
   "cell_type": "code",
   "execution_count": null,
   "id": "bc1f2230-48be-454b-9bf8-02fb1ab13e3c",
   "metadata": {},
   "outputs": [],
   "source": []
  }
 ],
 "metadata": {
  "kernelspec": {
   "display_name": "Python",
   "language": "python",
   "name": "conda-env-python-py"
  },
  "language_info": {
   "codemirror_mode": {
    "name": "ipython",
    "version": 3
   },
   "file_extension": ".py",
   "mimetype": "text/x-python",
   "name": "python",
   "nbconvert_exporter": "python",
   "pygments_lexer": "ipython3",
   "version": "3.7.12"
  }
 },
 "nbformat": 4,
 "nbformat_minor": 5
}
